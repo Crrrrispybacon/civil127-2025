{
 "cells": [
  {
   "cell_type": "markdown",
   "metadata": {},
   "source": [
    "## Exercise 3.1\n",
    "\n",
    "A stack is a last in, first out (LIFO) data structure. \n",
    "The data that gets pushed last gets popped first. \n",
    "Stacks are commonly used to implement features such as undo in a word processor. \n",
    "They can also be used when solving search problems (such as depth first searches). \n",
    "Recursive functions (such as `rlc` in exercise 1.4) make use of an implicit stack since function arguments live on a stack."
   ]
  },
  {
   "cell_type": "code",
   "execution_count": 1,
   "metadata": {},
   "outputs": [],
   "source": [
    "class Stack:\n",
    "    def __init__(self):\n",
    "        self.s = []\n",
    "\n",
    "    def push(self, n):\n",
    "        self.s.append(n)\n",
    "\n",
    "    def pop(self):\n",
    "        return self.s.pop()\n",
    "\n",
    "    def max(self):\n",
    "        return max(self.s)\n",
    "\n",
    "    def min(self):\n",
    "        return min(self.s)"
   ]
  },
  {
   "cell_type": "markdown",
   "metadata": {},
   "source": [
    "To implement the same operations in O(1) time, we need to spend O(n) memory and store the current max/min in additional lists:"
   ]
  },
  {
   "cell_type": "code",
   "execution_count": 2,
   "metadata": {},
   "outputs": [],
   "source": [
    "class StackO1:\n",
    "    def __init__(self):\n",
    "        self.s = []\n",
    "        self.max_stack = []\n",
    "        self.min_stack = []\n",
    "\n",
    "    def push(self, n):\n",
    "        self.s.append(n)\n",
    "        new_max = n\n",
    "        if self.max_stack != []:\n",
    "            new_max = max(self.max(), n)\n",
    "        self.max_stack.append(new_max)\n",
    "\n",
    "        new_min = n\n",
    "        if self.min_stack != []:\n",
    "            new_min = min(self.min(), n)\n",
    "        self.min_stack.append(new_min)\n",
    "\n",
    "    def pop(self):\n",
    "        self.max_stack.pop()\n",
    "        self.min_stack.pop()\n",
    "        return self.s.pop()\n",
    "\n",
    "    def max(self):\n",
    "        return self.max_stack[-1]\n",
    "\n",
    "    def min(self):\n",
    "        return self.min_stack[-1]"
   ]
  },
  {
   "cell_type": "markdown",
   "metadata": {},
   "source": [
    "If we wanted to be extra neat, we would throw an exception if `max()` or `min()` are called on an empty stack. Right now, `Stack` will throw `ValueError: max() iterable argument is empty` and `StackO1` will throw `IndexError: list index out of range`.\n",
    "\n",
    "```python\n",
    "    def max(self):\n",
    "        if self.s == []:\n",
    "            raise IndexError(\"empty stack\")\n",
    "        ...\n",
    "```"
   ]
  },
  {
   "cell_type": "markdown",
   "metadata": {},
   "source": [
    "## Exercise 3.2\n",
    "\n",
    "Implement tests for your stack class. Did writing tests reveal any bugs in your\n",
    "code? You can also exchange tests with your peers.\n",
    "\n",
    "Did your tests cover the following edge cases?\n",
    "- Poping when the stack is empty\n",
    "- Calling `max()` or `min()` when the stack is empty?"
   ]
  },
  {
   "cell_type": "markdown",
   "metadata": {
    "vscode": {
     "languageId": "markdown"
    }
   },
   "source": [
    "Notice how we leverage the fact that the API is the same to write the test only once and re-use it for both implementations."
   ]
  },
  {
   "cell_type": "markdown",
   "metadata": {},
   "source": [
    "It is recommended to copy the unittest solutions (including those for the following exercises) **to a separate python file** and launch it from terminal or use Run and Debug function of VS Code. \n",
    "\n",
    "In this notebook cell, we use a walk-around to demonstrate the testing results. When we run the notebook cell, what happens under the hood is that the codes will be sent to `ipykernel` and be run. Then, `unittest.main()` will try to interprete the commandline options sent to `ipykernel` as well, resulting in an error. Therefore we should pass `argv=...` to disallow this interpretation. \n",
    "\n",
    "In the results below, you can see 4 tests are run, and both are OK. Note that when you run the unittest for the following exercises, `unittest` will run all defined `TestCase` in the notebook, and `TestStack` will be run again."
   ]
  },
  {
   "cell_type": "code",
   "execution_count": 3,
   "metadata": {},
   "outputs": [
    {
     "name": "stderr",
     "output_type": "stream",
     "text": [
      "....\n",
      "----------------------------------------------------------------------\n",
      "Ran 4 tests in 0.001s\n",
      "\n",
      "OK\n"
     ]
    },
    {
     "data": {
      "text/plain": [
       "<unittest.main.TestProgram at 0x1041b6030>"
      ]
     },
     "execution_count": 3,
     "metadata": {},
     "output_type": "execute_result"
    }
   ],
   "source": [
    "import unittest\n",
    "\n",
    "class Stack:\n",
    "    def __init__(self):\n",
    "        self.s = []\n",
    "\n",
    "    def push(self, n):\n",
    "        self.s.append(n)\n",
    "\n",
    "    def pop(self):\n",
    "        return self.s.pop()\n",
    "\n",
    "    def max(self):\n",
    "        if self.s == []:\n",
    "            raise IndexError(\"empty stack\")\n",
    "        return max(self.s)\n",
    "\n",
    "    def min(self):\n",
    "        if self.s == []:\n",
    "            raise IndexError(\"empty stack\")\n",
    "        return min(self.s)\n",
    "\n",
    "\n",
    "class StackO1:\n",
    "    def __init__(self):\n",
    "        self.s = []\n",
    "        self.max_stack = []\n",
    "        self.min_stack = []\n",
    "\n",
    "    def push(self, n):\n",
    "        self.s.append(n)\n",
    "        new_max = n\n",
    "        if self.max_stack != []:\n",
    "            new_max = max(self.max(), n)\n",
    "        self.max_stack.append(new_max)\n",
    "\n",
    "        new_min = n\n",
    "        if self.min_stack != []:\n",
    "            new_min = min(self.min(), n)\n",
    "        self.min_stack.append(new_min)\n",
    "\n",
    "    def pop(self):\n",
    "        self.max_stack.pop()\n",
    "        self.min_stack.pop()\n",
    "        return self.s.pop()\n",
    "\n",
    "    def max(self):\n",
    "        if self.s == []:\n",
    "            raise IndexError(\"empty stack\")\n",
    "        return self.max_stack[-1]\n",
    "\n",
    "    def min(self):\n",
    "        if self.s == []:\n",
    "            raise IndexError(\"empty stack\")\n",
    "        return self.min_stack[-1]\n",
    "\n",
    "\n",
    "class TestStack(unittest.TestCase):\n",
    "    def test(self):\n",
    "        self.t(Stack())\n",
    "\n",
    "    def testEmpty(self):\n",
    "        self.empty(Stack())\n",
    "\n",
    "    def testO1(self):\n",
    "        self.t(StackO1())\n",
    "\n",
    "    def testEmptyO1(self):\n",
    "        self.empty(StackO1())\n",
    "\n",
    "    def t(self, s):\n",
    "        s.push(1)\n",
    "        s.push(5)\n",
    "        self.assertEqual(s.max(), 5)\n",
    "        self.assertEqual(s.min(), 1)\n",
    "        s.push(9)\n",
    "        self.assertEqual(s.pop(), 9)\n",
    "        s.push(2)\n",
    "        self.assertEqual(s.max(), 5)\n",
    "        self.assertEqual(s.min(), 1)\n",
    "\n",
    "    def empty(self, s):\n",
    "        self.assertRaises(IndexError, s.pop)\n",
    "        self.assertRaises(IndexError, s.max)\n",
    "        self.assertRaises(IndexError, s.min)\n",
    "\n",
    "# run the code with:\n",
    "# python -m unittest exercise_3_5.py\n",
    "#\n",
    "# or uncomment these lines:\n",
    "# if __name__ == \"__main__\":\n",
    "#     unittest.main()\n",
    "\n",
    "unittest.main(argv=['first-arg-is-ignored'], exit=False)"
   ]
  },
  {
   "cell_type": "markdown",
   "metadata": {},
   "source": [
    "## Exercise 3.3\n",
    "\n",
    "Note: We recommend using `git` to track your code changes. You may however\n",
    "skip using `git` for this and the remaining labs if you want to focus on the\n",
    "coding side of things. We understand that `git` has a learning curve.\n",
    "\n",
    "Refactor your Sokoban code from labs 1 and 2 and use classes. You should\n",
    "end up with at least a Model, a View, and a Controller class. You might\n",
    "have additional classes.\n",
    "\n",
    "If you are using `git` to track your code changes, your refactor should be\n",
    "split into small commits (somewhere between 3-5 commits). As you prepare\n",
    "each commit, make sure your game still works."
   ]
  },
  {
   "cell_type": "markdown",
   "metadata": {},
   "source": [
    "Please refer to the `solutions` folder for the example solutions to this exercise."
   ]
  },
  {
   "cell_type": "markdown",
   "metadata": {},
   "source": [
    "## Exercise 3.4\n",
    "\n",
    "Write unittests for your code. Your tests should check that:\n",
    "\n",
    "  - a player can move to an empty space\n",
    "  - a player cannot move into a wall\n",
    "  - a player can push a box if the box will occupy an empty space\n",
    "  - a player cannot push a box if another box is blocking it\n",
    "  - a player cannot push a box if a wall is blocking it\n",
    "\n",
    "You can use the existing level data or create your own simpler level data for\n",
    "the purpose of writing tests."
   ]
  },
  {
   "cell_type": "markdown",
   "metadata": {},
   "source": [
    "Please refer to the `solutions` folder for the example solutions to this exercise."
   ]
  },
  {
   "cell_type": "markdown",
   "metadata": {},
   "source": [
    "## Exercise 3.5 (optional)\n",
    "\n",
    "```python\n",
    "def wrap_underscores(word):\n",
    "    '''Adds an underscore between each letter. E.g. \"hello\" becomes \"_h_e_l_l_o_\".'''\n",
    "    r = \"_\"\n",
    "    for i in range(len(word)):\n",
    "        r = word[i] + \"_\"\n",
    "    return r\n",
    "```\n",
    "\n",
    "`wrap_underscores` is meant to surround each character in `word` with\n",
    "underscores. The code is however buggy. Write a unittest to demonstrate that the\n",
    "code does not work. Then locate and fix the bug."
   ]
  },
  {
   "cell_type": "code",
   "execution_count": 4,
   "metadata": {},
   "outputs": [
    {
     "name": "stderr",
     "output_type": "stream",
     "text": [
      "....F\n",
      "======================================================================\n",
      "FAIL: test (__main__.TestWrapUnderscores.test)\n",
      "----------------------------------------------------------------------\n",
      "Traceback (most recent call last):\n",
      "  File \"/var/folders/6y/6l6xvns13pqc1hx9qdb7p7tr0000gn/T/ipykernel_73230/2859438263.py\", line 12, in test\n",
      "    self.assertEqual(a, \"_h_e_l_l_o_\")\n",
      "AssertionError: 'o_' != '_h_e_l_l_o_'\n",
      "- o_\n",
      "+ _h_e_l_l_o_\n",
      "\n",
      "\n",
      "----------------------------------------------------------------------\n",
      "Ran 5 tests in 0.002s\n",
      "\n",
      "FAILED (failures=1)\n"
     ]
    },
    {
     "data": {
      "text/plain": [
       "<unittest.main.TestProgram at 0x1042032c0>"
      ]
     },
     "execution_count": 4,
     "metadata": {},
     "output_type": "execute_result"
    }
   ],
   "source": [
    "def wrap_underscores(word):\n",
    "    '''Adds an underscore between each letter. E.g. \"hello\" becomes \"_h_e_l_l_o_\".'''\n",
    "    r = \"_\"\n",
    "    for i in range(len(word)):\n",
    "        r = word[i] + \"_\"\n",
    "    return r\n",
    "\n",
    "\n",
    "class TestWrapUnderscores(unittest.TestCase):\n",
    "    def test(self):\n",
    "        a = wrap_underscores(\"hello\")\n",
    "        self.assertEqual(a, \"_h_e_l_l_o_\")\n",
    "\n",
    "unittest.main(argv=['first-arg-is-ignored'], exit=False)"
   ]
  },
  {
   "cell_type": "markdown",
   "metadata": {},
   "source": [
    "\n",
    "As we can see from the results, the wrong implementation only returns the last character with underscore \"o_\" while the previous ones are missing.\n",
    "Therefore the fix is to keep all characters: `r += word[i] + \"_\"`, and `r = r + word[i] + \"_\"` is also valid.\n",
    "\n",
    "An edge case worth testing in this case is the empty string as input. If _ is not the desired answer, a conditional must be added. The behavior is underspecified so you'll have to hunt down these kinds of edge cases and obtain clarification.\n",
    "\n",
    "So we get to this solution:"
   ]
  },
  {
   "cell_type": "code",
   "execution_count": 5,
   "metadata": {},
   "outputs": [
    {
     "name": "stderr",
     "output_type": "stream",
     "text": [
      ".....\n",
      "----------------------------------------------------------------------\n",
      "Ran 5 tests in 0.002s\n",
      "\n",
      "OK\n"
     ]
    },
    {
     "data": {
      "text/plain": [
       "<unittest.main.TestProgram at 0x10418df70>"
      ]
     },
     "execution_count": 5,
     "metadata": {},
     "output_type": "execute_result"
    }
   ],
   "source": [
    "def wrap_underscores(word):\n",
    "    '''Adds an underscore between each letter. E.g. \"hello\" becomes \"_h_e_l_l_o_\".\n",
    "       if word is empty, returns an empty string.\n",
    "    '''\n",
    "    if word == \"\":\n",
    "        return \"\"\n",
    "    r = \"_\"\n",
    "    for i in range(len(word)):\n",
    "        r += word[i] + \"_\"\n",
    "    return r\n",
    "\n",
    "# note that we reuse the `TestWrapUnderscores` class above\n",
    "unittest.main(argv=['first-arg-is-ignored'], exit=False)"
   ]
  },
  {
   "cell_type": "markdown",
   "metadata": {},
   "source": [
    "Another solution, using join:"
   ]
  },
  {
   "cell_type": "code",
   "execution_count": 6,
   "metadata": {},
   "outputs": [
    {
     "name": "stderr",
     "output_type": "stream",
     "text": [
      ".....\n",
      "----------------------------------------------------------------------\n",
      "Ran 5 tests in 0.002s\n",
      "\n",
      "OK\n"
     ]
    },
    {
     "data": {
      "text/plain": [
       "<unittest.main.TestProgram at 0x10418ee40>"
      ]
     },
     "execution_count": 6,
     "metadata": {},
     "output_type": "execute_result"
    }
   ],
   "source": [
    "def wrap_underscores(word):\n",
    "    '''Adds an underscore between each letter. E.g. \"hello\" becomes \"_h_e_l_l_o_\".\n",
    "       if word is empty, returns an empty string.\n",
    "    '''\n",
    "    if word == \"\":\n",
    "        return \"\"\n",
    "    return \"_\" + \"_\".join(word) + \"_\"\n",
    "\n",
    "unittest.main(argv=['first-arg-is-ignored'], exit=False)"
   ]
  },
  {
   "cell_type": "markdown",
   "metadata": {},
   "source": [
    "We can also break the word into a list `[*list(word)]` and add empty elements at the start and end:"
   ]
  },
  {
   "cell_type": "code",
   "execution_count": 7,
   "metadata": {},
   "outputs": [
    {
     "name": "stderr",
     "output_type": "stream",
     "text": [
      ".....\n",
      "----------------------------------------------------------------------\n",
      "Ran 5 tests in 0.001s\n",
      "\n",
      "OK\n"
     ]
    },
    {
     "data": {
      "text/plain": [
       "<unittest.main.TestProgram at 0x10422d340>"
      ]
     },
     "execution_count": 7,
     "metadata": {},
     "output_type": "execute_result"
    }
   ],
   "source": [
    "def wrap_underscores(word):\n",
    "    '''Adds an underscore between each letter. E.g. \"hello\" becomes \"_h_e_l_l_o_\".\n",
    "       if word is empty, returns an empty string.\n",
    "    '''\n",
    "    if word == \"\":\n",
    "      return \"\"\n",
    "    return \"_\".join([\"\", *list(word), \"\"])\n",
    "    \n",
    "unittest.main(argv=['first-arg-is-ignored'], exit=False)"
   ]
  },
  {
   "cell_type": "markdown",
   "metadata": {},
   "source": [
    "## Exercise 3.6 (optional)\n",
    "A country has the following coinage: $2, $3, $7. We want to know how many\n",
    "different ways we can represent $40. Write a function which takes a list of\n",
    "coinage and a target sum and returns all the permutations.\n",
    "\n",
    "E.g.\n",
    "```python\n",
    "def permutations(coinage, sum):\n",
    "   …\n",
    "```\n",
    "\n",
    "```txt\n",
    "> permutations([2, 3, 7], 40)\n",
    "1. $2 x 20\n",
    "2. $2 x 15, $3 x 1, $7 x 1\n",
    "…\n",
    "```"
   ]
  },
  {
   "cell_type": "markdown",
   "metadata": {},
   "source": [
    "This problem can be solved using a recursive function, where we break down a bigger problem to smaller pieces (subproblems) step by step.\n",
    "In this example, if we choose to compose the $40 value with one $2 coin and other coins, the problem breaks down to composing $38 with some number of $3 and $7 coins. In the first step, we may choose up to 20 $2 coins, and we will consider all these possible options.\n",
    "\n",
    "It might also be possible to solve it more efficiently using dynamic programming (DP). Dynamic programming keeps track of the solutions to subproblems, and avoid solving them repeatedly. For example, in one case we try to use 1 x $2 and 8 x $3 first, and the subproblem becomes composing $14 with some number of $7 coins. In another case we try using 4 x $2 and 6 x $3, and we also arrive at the same subproblem. Therefore we can record the found solution an use it directly at the second time, instead of computing it again."
   ]
  },
  {
   "cell_type": "code",
   "execution_count": 8,
   "metadata": {},
   "outputs": [
    {
     "name": "stdout",
     "output_type": "stream",
     "text": [
      "1. $2 x 1, $3 x 1, $7 x 5\n",
      "2. $2 x 1, $3 x 8, $7 x 2\n",
      "3. $2 x 2, $3 x 5, $7 x 3\n",
      "4. $2 x 2, $3 x 12\n",
      "5. $2 x 3, $3 x 2, $7 x 4\n",
      "6. $2 x 3, $3 x 9, $7 x 1\n",
      "7. $2 x 4, $3 x 6, $7 x 2\n",
      "8. $2 x 5, $3 x 3, $7 x 3\n",
      "9. $2 x 5, $3 x 10\n",
      "10. $2 x 6, $3 x 7, $7 x 1\n",
      "11. $2 x 6, $7 x 4\n",
      "12. $2 x 7, $3 x 4, $7 x 2\n",
      "13. $2 x 8, $3 x 1, $7 x 3\n",
      "14. $2 x 8, $3 x 8\n",
      "15. $2 x 9, $3 x 5, $7 x 1\n",
      "16. $2 x 10, $3 x 2, $7 x 2\n",
      "17. $2 x 11, $3 x 6\n",
      "18. $2 x 12, $3 x 3, $7 x 1\n",
      "19. $2 x 13, $7 x 2\n",
      "20. $2 x 14, $3 x 4\n",
      "21. $2 x 15, $3 x 1, $7 x 1\n",
      "22. $2 x 17, $3 x 2\n",
      "23. $2 x 20\n",
      "24. $3 x 4, $7 x 4\n",
      "25. $3 x 11, $7 x 1\n"
     ]
    }
   ],
   "source": [
    "def permutations(coinage, coin_sum):\n",
    "    solutions = []\n",
    "    permutations2(coinage, coin_sum, [], solutions)\n",
    "    for i, solution in enumerate(solutions):\n",
    "        print(\"{}. {}\".format(i+1, solution))\n",
    "\n",
    "\n",
    "def permutations2(coinage, remaining, used, solutions):\n",
    "    \"\"\" Recursively solve the coinage problem.\n",
    "        coinage: list of coins we can use.\n",
    "        remaining: amount remaining from our target sum.\n",
    "        used: list of strings representing what coins we have used so far.\n",
    "        solutions: list of strings we push solutions to. \"\"\"\n",
    "    if remaining == 0:\n",
    "        # we have found a solution, so we record it\n",
    "        solutions.append(\", \".join(used))\n",
    "        return\n",
    "    elif coinage == []:\n",
    "        # we don't have any more coins left\n",
    "        return\n",
    "\n",
    "    # each recursive call into permutations2 will consume one coin from coinage\n",
    "    current_coin = coinage[0]\n",
    "\n",
    "    # use integer division to figure out the upper bound for how many of the\n",
    "    # current coin we can use.\n",
    "    max = remaining // current_coin\n",
    "\n",
    "    # case where we use the current coin between 1 and max (inclusive) times\n",
    "    for i in range(1, max+1):\n",
    "        # notice: we don't want to mutate the used list, so we use list\n",
    "        # concatenation instead of append.\n",
    "        permutations2(coinage[1:], remaining - i * current_coin,\n",
    "                      used + [\"${} x {}\".format(current_coin, i)], solutions)\n",
    "\n",
    "    # We don't want to record when we don't use a coin (i.e. we don't want \"$2 x 0\"),\n",
    "    # so we special case i=0.\n",
    "    permutations2(coinage[1:], remaining, used, solutions)\n",
    "\n",
    "\n",
    "permutations([2, 3, 7], 40)"
   ]
  },
  {
   "cell_type": "markdown",
   "metadata": {},
   "source": []
  }
 ],
 "metadata": {
  "kernelspec": {
   "display_name": "civil127",
   "language": "python",
   "name": "python3"
  },
  "language_info": {
   "codemirror_mode": {
    "name": "ipython",
    "version": 3
   },
   "file_extension": ".py",
   "mimetype": "text/x-python",
   "name": "python",
   "nbconvert_exporter": "python",
   "pygments_lexer": "ipython3",
   "version": "3.12.9"
  }
 },
 "nbformat": 4,
 "nbformat_minor": 2
}

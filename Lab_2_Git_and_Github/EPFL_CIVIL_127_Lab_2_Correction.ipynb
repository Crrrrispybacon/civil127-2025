{
 "cells": [
  {
   "cell_type": "markdown",
   "metadata": {},
   "source": [
    "## Exercise 2.2\n",
    "\n",
    "**It is recommended to copy the solution of this exercise to your python script file (e.g., sokoban.py) and run it from a VS Code terminal** \n",
    "\n",
    "Implement player and box movement. Prompt the user to enter “w, a, s, d” (or other keys if you prefer) and move the player accordingly (W for up, A for left, S for down, D for right if you have a Swiss keyboard, in the same fashion you would have in video games).\n",
    "\n",
    "Use the existing getPlayerPosition(), isEmpty(), isBox() functions you previously implemented. Implement any helper functions you feel necessary.\n",
    "\n",
    "If the move is valid, print the grid. If the move is invalid, print an explanation for why the it is invalid (e.g. “a wall is blocking you”, “a wall is blocking the box you are trying to move”, “another box is blocking the box you are trying to move”, etc.)."
   ]
  },
  {
   "cell_type": "code",
   "execution_count": null,
   "metadata": {},
   "outputs": [],
   "source": [
    "# Define ANSI escape codes for colors\n",
    "COLOR_BOX = \"\\033[0;33;40m\"   # Yellow\n",
    "COLOR_BOX_ON_GOAL = \"\\033[1;36;40m\"  # Cyan\n",
    "COLOR_PLAYER = \"\\033[1;32;40m\"  # Green\n",
    "COLOR_PLAYER_ON_GOAL = \"\\033[0;31;40m\"  # Red\n",
    "COLOR_WALL = \"\\033[0;34;40m\"  # Bold Blue\n",
    "COLOR_GOAL = \"\\033[0;35;40m\"  # Magenta\n",
    "COLOR_FLOOR = \"\\033[0;30;40m\"  # Invisible\n",
    "COLOR_RESET = \"\\033[0m\"  # Reset to default\n",
    "COLOR_CLEAR_SCREEN = \"\\033c\"\n",
    "\n",
    "# Define the symbols that may appear in the board\n",
    "SYMBOL_BOX = \"$\"\n",
    "SYMBOL_BOX_ON_GOAL = \"*\"\n",
    "SYMBOL_PLAYER = \"@\"\n",
    "SYMBOL_PLAYER_ON_GOAL = \"+\"\n",
    "SYMBOL_GOAL = \".\"\n",
    "SYMBOL_WALL = \"#\"\n",
    "SYMBOL_FLOOR = \"-\"\n",
    "\n",
    "# Define the mapping of board symbols to colors\n",
    "symbolColorMapping = {\n",
    "    SYMBOL_BOX: COLOR_BOX,\n",
    "    SYMBOL_BOX_ON_GOAL: COLOR_BOX_ON_GOAL,\n",
    "    SYMBOL_PLAYER: COLOR_PLAYER,\n",
    "    SYMBOL_PLAYER_ON_GOAL: COLOR_PLAYER_ON_GOAL,\n",
    "    SYMBOL_WALL: COLOR_WALL,\n",
    "    SYMBOL_GOAL: COLOR_GOAL,\n",
    "    SYMBOL_FLOOR: COLOR_FLOOR,\n",
    "}\n",
    "\n",
    "\n",
    "def read_file(xsb_file):\n",
    "    '''read `xsb_file` and return a two-dimensional array.\n",
    "\n",
    "    The two-dimensional array can be accessed with [y][x], where\n",
    "    x is the horizontal axis and y is the vertical axis. The origin is the\n",
    "    top-left corner.\n",
    "    '''\n",
    "    with open(xsb_file, \"r\") as f:\n",
    "        return [list(line.strip()) for line in f]\n",
    "\n",
    "\n",
    "def print_board_color(board):\n",
    "    '''print the board.'''\n",
    "\n",
    "    print(COLOR_CLEAR_SCREEN)  # clear screen\n",
    "    for row in board:\n",
    "        colored_row = \"\".join(symbolColorMapping[cell] + cell for cell in row)\n",
    "        print(colored_row + COLOR_RESET)  # Reset color at the end of each line\n",
    "\n",
    "\n",
    "def getPlayerPosition(board):\n",
    "    '''scan board for the player's position. Returns a tuple.'''\n",
    "    for y, row in enumerate(board):\n",
    "        for x, cell in enumerate(row):\n",
    "            if cell in {SYMBOL_PLAYER, SYMBOL_PLAYER_ON_GOAL}:\n",
    "                return (x, y)\n",
    "\n",
    "\n",
    "def isEmpty(board, x, y):\n",
    "    '''checks if the given x, y position is empty (valid for the player or a box to move into)'''\n",
    "    return board[y][x] in {SYMBOL_FLOOR, SYMBOL_GOAL}\n",
    "\n",
    "\n",
    "def isBox(board, x, y):\n",
    "    '''checks if the given x, y position is a box.'''\n",
    "    return board[y][x] in {SYMBOL_BOX, SYMBOL_BOX_ON_GOAL}\n",
    "\n",
    "\n",
    "def move(board, dx, dy):\n",
    "    (x, y) = getPlayerPosition(board)\n",
    "    (nx, ny) = (x + dx, y + dy)  # nx, ny are where the player is trying to go\n",
    "\n",
    "    # Due to our board representation, we must take goal and regular tiles\n",
    "    # into account. There are better ways around.\n",
    "    if isEmpty(board, nx, ny):\n",
    "        if board[ny][nx] == SYMBOL_GOAL:\n",
    "            board[ny][nx] = SYMBOL_PLAYER_ON_GOAL\n",
    "        else:\n",
    "            board[ny][nx] = SYMBOL_PLAYER\n",
    "\n",
    "        if board[y][x] == SYMBOL_PLAYER_ON_GOAL:\n",
    "            board[y][x] = SYMBOL_GOAL\n",
    "        else:\n",
    "            board[y][x] = SYMBOL_FLOOR\n",
    "\n",
    "    elif isBox(board, nx, ny):\n",
    "        (nnx, nny) = (nx+dx, ny+dy)  # nnx, nny are where the box is trying to go\n",
    "        if isEmpty(board, nnx, nny):\n",
    "            if board[nny][nnx] == SYMBOL_GOAL:\n",
    "                board[nny][nnx] = SYMBOL_BOX_ON_GOAL\n",
    "            else:\n",
    "                board[nny][nnx] = SYMBOL_BOX\n",
    "\n",
    "            if board[ny][nx] == SYMBOL_BOX_ON_GOAL:\n",
    "                board[ny][nx] = SYMBOL_PLAYER_ON_GOAL\n",
    "            else:\n",
    "                board[ny][nx] = SYMBOL_PLAYER\n",
    "\n",
    "            if board[y][x] == SYMBOL_PLAYER_ON_GOAL:\n",
    "                board[y][x] = SYMBOL_GOAL\n",
    "            else:\n",
    "                board[y][x] = SYMBOL_FLOOR\n",
    "        else:\n",
    "            return \"can't push this box\"\n",
    "    else:\n",
    "        return \"can't push walls\"\n",
    "\n",
    "\n",
    "board = read_file(\"level1.xsb\")\n",
    "print_board_color(board)\n",
    "while True:\n",
    "    player_movement = input(\"enter move (w, a, s, d):\")\n",
    "    match player_movement:\n",
    "        case 'w':\n",
    "            invalid = move(board, 0, -1)\n",
    "        case 'a':\n",
    "            invalid = move(board, -1, 0)\n",
    "        case 's':\n",
    "            invalid = move(board, 0, 1)\n",
    "        case 'd':\n",
    "            invalid = move(board, 1, 0)\n",
    "    if not invalid:\n",
    "        print_board_color(board)\n",
    "    else:\n",
    "        print('invalid move: ', invalid)"
   ]
  },
  {
   "cell_type": "markdown",
   "metadata": {},
   "source": [
    "## Exercise 2.3 (optional)\n",
    "\n",
    "```text\n",
    "      SEND\n",
    "    + MORE\n",
    "      ----\n",
    "     MONEY\n",
    "```\n",
    "\n",
    "“SEND + MORE = MONEY” is a classic math puzzle. The goal is to find integer values between 0 and 9 for each letter. Two different letters must have different values. S and M can’t be 0.\n",
    "\n",
    "First, write a program to solve this puzzle without using any other Python libraries. You can start with a naive brute-force program that tries all possible combinations until it finds a solution.\n",
    "Then write another, simpler, solution using any Python library you desire.\n"
   ]
  },
  {
   "cell_type": "markdown",
   "metadata": {},
   "source": [
    "Using a bunch of loops (bruteforce), in an inefficient way: (notice the time consumed, in VS Code it should be displayed at the bottom left of the code block, and it may vary according to your computer)"
   ]
  },
  {
   "cell_type": "code",
   "execution_count": 1,
   "metadata": {},
   "outputs": [
    {
     "name": "stdout",
     "output_type": "stream",
     "text": [
      "   9567\n",
      "+  1085\n",
      "  =====\n",
      "  10652\n"
     ]
    }
   ],
   "source": [
    "for s in range(1, 10):\n",
    "    for e in range(0, 10):\n",
    "        for n in range(0, 10):\n",
    "            for d in range(0, 10):\n",
    "                for m in range(1, 10):\n",
    "                    for o in range(0, 10):\n",
    "                        for r in range(0, 10):\n",
    "                            for y in range(0, 10):\n",
    "                                if len({s, e, n, d, m, o, r, y}) != 8:\n",
    "                                    continue\n",
    "                                send = 1000*s + 100*e + 10*n + d\n",
    "                                more = 1000*m + 100*o + 10*r + e\n",
    "                                money = 10000*m + 1000*o + 100*n + 10*e + y\n",
    "                                if send + more == money:\n",
    "                                    print(\n",
    "                                        \"   {}\\n+  {}\\n  =====\\n  {}\".format(send, more, money))"
   ]
  },
  {
   "cell_type": "markdown",
   "metadata": {},
   "source": [
    "Using a bunch of loops (bruteforce), slightly more efficiently (early continue). The reason is that, two different letters can not represent the same number, so we can skip the ones occupied by other letters (again notice the running time, it should be shorter than the previous implementation)."
   ]
  },
  {
   "cell_type": "code",
   "execution_count": 2,
   "metadata": {},
   "outputs": [
    {
     "name": "stdout",
     "output_type": "stream",
     "text": [
      "   9567\n",
      "+  1085\n",
      "  =====\n",
      "  10652\n"
     ]
    }
   ],
   "source": [
    "for s in range(1, 10):\n",
    "    for e in range(0, 10):\n",
    "        if e == s:\n",
    "            continue\n",
    "        for n in range(0, 10):\n",
    "            if n in {s, e}:\n",
    "                continue\n",
    "            for d in range(0, 10):\n",
    "                if d in {s, e, n}:\n",
    "                    continue\n",
    "                for m in range(1, 10):\n",
    "                    if m in {s, e, n, d}:\n",
    "                        continue\n",
    "                    for o in range(0, 10):\n",
    "                        if o in {s, e, n, d, m}:\n",
    "                            continue\n",
    "                        for r in range(0, 10):\n",
    "                            if r in {s, e, n, d, m, o}:\n",
    "                                continue\n",
    "                            for y in range(0, 10):\n",
    "                                if y in {s, e, n, d, m, o, r}:\n",
    "                                    continue\n",
    "                                send = 1000*s + 100*e + 10*n + d\n",
    "                                more = 1000*m + 100*o + 10*r + e\n",
    "                                money = 10000*m + 1000*o + 100*n + 10*e + y\n",
    "                                if send + more == money:\n",
    "                                    print(\n",
    "                                        \"   {}\\n+  {}\\n  =====\\n  {}\".format(send, more, money))"
   ]
  },
  {
   "cell_type": "markdown",
   "metadata": {},
   "source": [
    "Using itertools (bruteforce). To know about the function `permutations`, you can have a look at https://docs.python.org/3/library/itertools.html#itertools.permutations."
   ]
  },
  {
   "cell_type": "code",
   "execution_count": 3,
   "metadata": {},
   "outputs": [
    {
     "name": "stdout",
     "output_type": "stream",
     "text": [
      "   9567\n",
      "+  1085\n",
      "  =====\n",
      "  10652\n"
     ]
    }
   ],
   "source": [
    "from itertools import permutations\n",
    "\n",
    "for (s, e, n, d, m, o, r, y) in permutations(range(0, 10), r=8):\n",
    "  if s == 0 or m == 0:\n",
    "    continue\n",
    "  send = 1000*s + 100*e + 10*n + d\n",
    "  more = 1000*m + 100*o + 10*r + e\n",
    "  money = 10000*m + 1000*o + 100*n + 10*e + y\n",
    "  if send + more == money:\n",
    "    print(\"   {}\\n+  {}\\n  =====\\n  {}\".format(send, more , money))"
   ]
  },
  {
   "cell_type": "markdown",
   "metadata": {},
   "source": [
    "Using `z3`, a powerful solver https://pypi.org/project/z3-solver/. For installation, you can run \n",
    "```bash\n",
    "conda activate civil127\n",
    "python -m pip install z3-solver\n",
    "```"
   ]
  },
  {
   "cell_type": "code",
   "execution_count": 4,
   "metadata": {},
   "outputs": [
    {
     "name": "stdout",
     "output_type": "stream",
     "text": [
      "   9567\n",
      "+  1085\n",
      "  =====\n",
      "  10652\n"
     ]
    }
   ],
   "source": [
    "from z3 import Int, Solver, Distinct, sat\n",
    "\n",
    "S, E, N, D, M, O, R, Y = Int('S'), Int('E'), Int(\n",
    "    'N'), Int('D'), Int('M'), Int('O'), Int('R'), Int('Y')\n",
    "\n",
    "solver = Solver()\n",
    "solver.add(Distinct(S, E, N, D, M, O, R, Y))\n",
    "solver.add(S >= 1, S <= 9)\n",
    "solver.add(E >= 0, E <= 9)\n",
    "solver.add(N >= 0, N <= 9)\n",
    "solver.add(D >= 0, D <= 9)\n",
    "solver.add(M >= 1, M <= 9)\n",
    "solver.add(O >= 0, O <= 9)\n",
    "solver.add(R >= 0, R <= 9)\n",
    "solver.add(Y >= 0, Y <= 9)\n",
    "solver.add(\n",
    "    (S * 1000 + E * 100 + N * 10 + D) +\n",
    "    (M * 1000 + O * 100 + R * 10 + E) ==\n",
    "    (M * 10000 + O * 1000 + N * 100 + E * 10 + Y)\n",
    ")\n",
    "\n",
    "# Check if a solution exists\n",
    "t = solver.check()\n",
    "if t == sat:\n",
    "    m = solver.model()\n",
    "    send = \"{}{}{}{}\".format(m[S], m[E], m[N], m[D])\n",
    "    more = \"{}{}{}{}\".format(m[M], m[O], m[R], m[E])\n",
    "    money = \"{}{}{}{}{}\".format(m[M], m[O], m[N], m[E], m[Y])\n",
    "    print(\"   {}\\n+  {}\\n  =====\\n  {}\".format(send, more, money))\n",
    "else:\n",
    "    print(\"No solution found.\")"
   ]
  },
  {
   "cell_type": "code",
   "execution_count": null,
   "metadata": {},
   "outputs": [],
   "source": []
  }
 ],
 "metadata": {
  "kernelspec": {
   "display_name": "civil127",
   "language": "python",
   "name": "python3"
  },
  "language_info": {
   "codemirror_mode": {
    "name": "ipython",
    "version": 3
   },
   "file_extension": ".py",
   "mimetype": "text/x-python",
   "name": "python",
   "nbconvert_exporter": "python",
   "pygments_lexer": "ipython3",
   "version": "3.12.9"
  }
 },
 "nbformat": 4,
 "nbformat_minor": 2
}
